{
 "cells": [
  {
   "cell_type": "code",
   "execution_count": 1,
   "id": "558b1e0d-d9f9-47eb-a939-8fcdea3c8ad5",
   "metadata": {},
   "outputs": [],
   "source": [
    "#import libraries"
   ]
  },
  {
   "cell_type": "code",
   "execution_count": 2,
   "id": "6fe851c7-9994-4586-b856-7db6958e49e5",
   "metadata": {},
   "outputs": [],
   "source": [
    "import pandas as pd\n",
    "import numpy as np\n",
    "import matplotlib.pyplot as plt\n",
    "import seaborn as sns"
   ]
  },
  {
   "cell_type": "code",
   "execution_count": 3,
   "id": "a4cfdf07-5ee8-4da7-b710-177cb396a343",
   "metadata": {},
   "outputs": [],
   "source": [
    "#load the data"
   ]
  },
  {
   "cell_type": "code",
   "execution_count": 4,
   "id": "b90a7456-78ad-4c14-a958-4646f5944a1b",
   "metadata": {},
   "outputs": [],
   "source": [
    "diabetic_data= pd.read_csv('diabetic_data.csv')"
   ]
  },
  {
   "cell_type": "code",
   "execution_count": 5,
   "id": "ac97bd20-c2ff-4ba1-bfa4-ade4725d0036",
   "metadata": {},
   "outputs": [],
   "source": [
    "#view the first five rows"
   ]
  },
  {
   "cell_type": "code",
   "execution_count": 6,
   "id": "036be968-65d8-4ef7-a62b-4b9ade9bcc43",
   "metadata": {},
   "outputs": [
    {
     "data": {
      "text/html": [
       "<div>\n",
       "<style scoped>\n",
       "    .dataframe tbody tr th:only-of-type {\n",
       "        vertical-align: middle;\n",
       "    }\n",
       "\n",
       "    .dataframe tbody tr th {\n",
       "        vertical-align: top;\n",
       "    }\n",
       "\n",
       "    .dataframe thead th {\n",
       "        text-align: right;\n",
       "    }\n",
       "</style>\n",
       "<table border=\"1\" class=\"dataframe\">\n",
       "  <thead>\n",
       "    <tr style=\"text-align: right;\">\n",
       "      <th></th>\n",
       "      <th>encounter_id</th>\n",
       "      <th>patient_nbr</th>\n",
       "      <th>race</th>\n",
       "      <th>gender</th>\n",
       "      <th>age</th>\n",
       "      <th>weight</th>\n",
       "      <th>admission_type_id</th>\n",
       "      <th>discharge_disposition_id</th>\n",
       "      <th>admission_source_id</th>\n",
       "      <th>time_in_hospital</th>\n",
       "      <th>...</th>\n",
       "      <th>citoglipton</th>\n",
       "      <th>insulin</th>\n",
       "      <th>glyburide-metformin</th>\n",
       "      <th>glipizide-metformin</th>\n",
       "      <th>glimepiride-pioglitazone</th>\n",
       "      <th>metformin-rosiglitazone</th>\n",
       "      <th>metformin-pioglitazone</th>\n",
       "      <th>change</th>\n",
       "      <th>diabetesMed</th>\n",
       "      <th>readmitted</th>\n",
       "    </tr>\n",
       "  </thead>\n",
       "  <tbody>\n",
       "    <tr>\n",
       "      <th>0</th>\n",
       "      <td>2278392</td>\n",
       "      <td>8222157</td>\n",
       "      <td>Caucasian</td>\n",
       "      <td>Female</td>\n",
       "      <td>[0-10)</td>\n",
       "      <td>?</td>\n",
       "      <td>6</td>\n",
       "      <td>25</td>\n",
       "      <td>1</td>\n",
       "      <td>1</td>\n",
       "      <td>...</td>\n",
       "      <td>No</td>\n",
       "      <td>No</td>\n",
       "      <td>No</td>\n",
       "      <td>No</td>\n",
       "      <td>No</td>\n",
       "      <td>No</td>\n",
       "      <td>No</td>\n",
       "      <td>No</td>\n",
       "      <td>No</td>\n",
       "      <td>NO</td>\n",
       "    </tr>\n",
       "    <tr>\n",
       "      <th>1</th>\n",
       "      <td>149190</td>\n",
       "      <td>55629189</td>\n",
       "      <td>Caucasian</td>\n",
       "      <td>Female</td>\n",
       "      <td>[10-20)</td>\n",
       "      <td>?</td>\n",
       "      <td>1</td>\n",
       "      <td>1</td>\n",
       "      <td>7</td>\n",
       "      <td>3</td>\n",
       "      <td>...</td>\n",
       "      <td>No</td>\n",
       "      <td>Up</td>\n",
       "      <td>No</td>\n",
       "      <td>No</td>\n",
       "      <td>No</td>\n",
       "      <td>No</td>\n",
       "      <td>No</td>\n",
       "      <td>Ch</td>\n",
       "      <td>Yes</td>\n",
       "      <td>&gt;30</td>\n",
       "    </tr>\n",
       "    <tr>\n",
       "      <th>2</th>\n",
       "      <td>64410</td>\n",
       "      <td>86047875</td>\n",
       "      <td>AfricanAmerican</td>\n",
       "      <td>Female</td>\n",
       "      <td>[20-30)</td>\n",
       "      <td>?</td>\n",
       "      <td>1</td>\n",
       "      <td>1</td>\n",
       "      <td>7</td>\n",
       "      <td>2</td>\n",
       "      <td>...</td>\n",
       "      <td>No</td>\n",
       "      <td>No</td>\n",
       "      <td>No</td>\n",
       "      <td>No</td>\n",
       "      <td>No</td>\n",
       "      <td>No</td>\n",
       "      <td>No</td>\n",
       "      <td>No</td>\n",
       "      <td>Yes</td>\n",
       "      <td>NO</td>\n",
       "    </tr>\n",
       "    <tr>\n",
       "      <th>3</th>\n",
       "      <td>500364</td>\n",
       "      <td>82442376</td>\n",
       "      <td>Caucasian</td>\n",
       "      <td>Male</td>\n",
       "      <td>[30-40)</td>\n",
       "      <td>?</td>\n",
       "      <td>1</td>\n",
       "      <td>1</td>\n",
       "      <td>7</td>\n",
       "      <td>2</td>\n",
       "      <td>...</td>\n",
       "      <td>No</td>\n",
       "      <td>Up</td>\n",
       "      <td>No</td>\n",
       "      <td>No</td>\n",
       "      <td>No</td>\n",
       "      <td>No</td>\n",
       "      <td>No</td>\n",
       "      <td>Ch</td>\n",
       "      <td>Yes</td>\n",
       "      <td>NO</td>\n",
       "    </tr>\n",
       "    <tr>\n",
       "      <th>4</th>\n",
       "      <td>16680</td>\n",
       "      <td>42519267</td>\n",
       "      <td>Caucasian</td>\n",
       "      <td>Male</td>\n",
       "      <td>[40-50)</td>\n",
       "      <td>?</td>\n",
       "      <td>1</td>\n",
       "      <td>1</td>\n",
       "      <td>7</td>\n",
       "      <td>1</td>\n",
       "      <td>...</td>\n",
       "      <td>No</td>\n",
       "      <td>Steady</td>\n",
       "      <td>No</td>\n",
       "      <td>No</td>\n",
       "      <td>No</td>\n",
       "      <td>No</td>\n",
       "      <td>No</td>\n",
       "      <td>Ch</td>\n",
       "      <td>Yes</td>\n",
       "      <td>NO</td>\n",
       "    </tr>\n",
       "  </tbody>\n",
       "</table>\n",
       "<p>5 rows × 50 columns</p>\n",
       "</div>"
      ],
      "text/plain": [
       "   encounter_id  patient_nbr             race  gender      age weight  \\\n",
       "0       2278392      8222157        Caucasian  Female   [0-10)      ?   \n",
       "1        149190     55629189        Caucasian  Female  [10-20)      ?   \n",
       "2         64410     86047875  AfricanAmerican  Female  [20-30)      ?   \n",
       "3        500364     82442376        Caucasian    Male  [30-40)      ?   \n",
       "4         16680     42519267        Caucasian    Male  [40-50)      ?   \n",
       "\n",
       "   admission_type_id  discharge_disposition_id  admission_source_id  \\\n",
       "0                  6                        25                    1   \n",
       "1                  1                         1                    7   \n",
       "2                  1                         1                    7   \n",
       "3                  1                         1                    7   \n",
       "4                  1                         1                    7   \n",
       "\n",
       "   time_in_hospital  ... citoglipton insulin  glyburide-metformin  \\\n",
       "0                 1  ...          No      No                   No   \n",
       "1                 3  ...          No      Up                   No   \n",
       "2                 2  ...          No      No                   No   \n",
       "3                 2  ...          No      Up                   No   \n",
       "4                 1  ...          No  Steady                   No   \n",
       "\n",
       "   glipizide-metformin  glimepiride-pioglitazone  metformin-rosiglitazone  \\\n",
       "0                   No                        No                       No   \n",
       "1                   No                        No                       No   \n",
       "2                   No                        No                       No   \n",
       "3                   No                        No                       No   \n",
       "4                   No                        No                       No   \n",
       "\n",
       "   metformin-pioglitazone  change diabetesMed readmitted  \n",
       "0                      No      No          No         NO  \n",
       "1                      No      Ch         Yes        >30  \n",
       "2                      No      No         Yes         NO  \n",
       "3                      No      Ch         Yes         NO  \n",
       "4                      No      Ch         Yes         NO  \n",
       "\n",
       "[5 rows x 50 columns]"
      ]
     },
     "execution_count": 6,
     "metadata": {},
     "output_type": "execute_result"
    }
   ],
   "source": [
    "diabetic_data.head()"
   ]
  },
  {
   "cell_type": "code",
   "execution_count": 7,
   "id": "efda76ae-3c32-4ee7-8298-277b1bf64b19",
   "metadata": {},
   "outputs": [],
   "source": [
    "#get more info about the columns"
   ]
  },
  {
   "cell_type": "code",
   "execution_count": 8,
   "id": "850fd43c-0dd9-44af-9c7c-36d93fd2935c",
   "metadata": {},
   "outputs": [
    {
     "name": "stdout",
     "output_type": "stream",
     "text": [
      "<class 'pandas.core.frame.DataFrame'>\n",
      "RangeIndex: 101766 entries, 0 to 101765\n",
      "Data columns (total 50 columns):\n",
      " #   Column                    Non-Null Count   Dtype \n",
      "---  ------                    --------------   ----- \n",
      " 0   encounter_id              101766 non-null  int64 \n",
      " 1   patient_nbr               101766 non-null  int64 \n",
      " 2   race                      101766 non-null  object\n",
      " 3   gender                    101766 non-null  object\n",
      " 4   age                       101766 non-null  object\n",
      " 5   weight                    101766 non-null  object\n",
      " 6   admission_type_id         101766 non-null  int64 \n",
      " 7   discharge_disposition_id  101766 non-null  int64 \n",
      " 8   admission_source_id       101766 non-null  int64 \n",
      " 9   time_in_hospital          101766 non-null  int64 \n",
      " 10  payer_code                101766 non-null  object\n",
      " 11  medical_specialty         101766 non-null  object\n",
      " 12  num_lab_procedures        101766 non-null  int64 \n",
      " 13  num_procedures            101766 non-null  int64 \n",
      " 14  num_medications           101766 non-null  int64 \n",
      " 15  number_outpatient         101766 non-null  int64 \n",
      " 16  number_emergency          101766 non-null  int64 \n",
      " 17  number_inpatient          101766 non-null  int64 \n",
      " 18  diag_1                    101766 non-null  object\n",
      " 19  diag_2                    101766 non-null  object\n",
      " 20  diag_3                    101766 non-null  object\n",
      " 21  number_diagnoses          101766 non-null  int64 \n",
      " 22  max_glu_serum             5346 non-null    object\n",
      " 23  A1Cresult                 17018 non-null   object\n",
      " 24  metformin                 101766 non-null  object\n",
      " 25  repaglinide               101766 non-null  object\n",
      " 26  nateglinide               101766 non-null  object\n",
      " 27  chlorpropamide            101766 non-null  object\n",
      " 28  glimepiride               101766 non-null  object\n",
      " 29  acetohexamide             101766 non-null  object\n",
      " 30  glipizide                 101766 non-null  object\n",
      " 31  glyburide                 101766 non-null  object\n",
      " 32  tolbutamide               101766 non-null  object\n",
      " 33  pioglitazone              101766 non-null  object\n",
      " 34  rosiglitazone             101766 non-null  object\n",
      " 35  acarbose                  101766 non-null  object\n",
      " 36  miglitol                  101766 non-null  object\n",
      " 37  troglitazone              101766 non-null  object\n",
      " 38  tolazamide                101766 non-null  object\n",
      " 39  examide                   101766 non-null  object\n",
      " 40  citoglipton               101766 non-null  object\n",
      " 41  insulin                   101766 non-null  object\n",
      " 42  glyburide-metformin       101766 non-null  object\n",
      " 43  glipizide-metformin       101766 non-null  object\n",
      " 44  glimepiride-pioglitazone  101766 non-null  object\n",
      " 45  metformin-rosiglitazone   101766 non-null  object\n",
      " 46  metformin-pioglitazone    101766 non-null  object\n",
      " 47  change                    101766 non-null  object\n",
      " 48  diabetesMed               101766 non-null  object\n",
      " 49  readmitted                101766 non-null  object\n",
      "dtypes: int64(13), object(37)\n",
      "memory usage: 38.8+ MB\n"
     ]
    }
   ],
   "source": [
    "diabetic_data.info()"
   ]
  },
  {
   "cell_type": "code",
   "execution_count": 9,
   "id": "c8953253-fb2d-4233-b66e-3a41124a7d82",
   "metadata": {},
   "outputs": [],
   "source": [
    "#select columns to convert to strings"
   ]
  },
  {
   "cell_type": "code",
   "execution_count": 10,
   "id": "a2c09409-78ad-46eb-9bab-95966a3c4ee8",
   "metadata": {},
   "outputs": [],
   "source": [
    "cols_to_str= ['encounter_id', 'patient_nbr', 'admission_type_id', 'discharge_disposition_id', 'admission_source_id']"
   ]
  },
  {
   "cell_type": "code",
   "execution_count": 11,
   "id": "dcca35d5-5a67-4c1a-b583-32819fd56a99",
   "metadata": {},
   "outputs": [],
   "source": [
    "#change datatypes from int to strings"
   ]
  },
  {
   "cell_type": "code",
   "execution_count": 12,
   "id": "24e50836-ab62-4abc-b08a-f516711784d7",
   "metadata": {},
   "outputs": [],
   "source": [
    "diabetic_data[cols_to_str] = diabetic_data[cols_to_str].astype(str)"
   ]
  },
  {
   "cell_type": "code",
   "execution_count": 13,
   "id": "9d829a2b-cd54-4150-8c7f-64616c085293",
   "metadata": {},
   "outputs": [],
   "source": [
    "#view data types"
   ]
  },
  {
   "cell_type": "code",
   "execution_count": 14,
   "id": "066a2b1f-e956-44d8-b3dc-a27bb3965ba9",
   "metadata": {},
   "outputs": [
    {
     "data": {
      "text/plain": [
       "encounter_id                object\n",
       "patient_nbr                 object\n",
       "race                        object\n",
       "gender                      object\n",
       "age                         object\n",
       "weight                      object\n",
       "admission_type_id           object\n",
       "discharge_disposition_id    object\n",
       "admission_source_id         object\n",
       "time_in_hospital             int64\n",
       "payer_code                  object\n",
       "medical_specialty           object\n",
       "num_lab_procedures           int64\n",
       "num_procedures               int64\n",
       "num_medications              int64\n",
       "number_outpatient            int64\n",
       "number_emergency             int64\n",
       "number_inpatient             int64\n",
       "diag_1                      object\n",
       "diag_2                      object\n",
       "diag_3                      object\n",
       "number_diagnoses             int64\n",
       "max_glu_serum               object\n",
       "A1Cresult                   object\n",
       "metformin                   object\n",
       "repaglinide                 object\n",
       "nateglinide                 object\n",
       "chlorpropamide              object\n",
       "glimepiride                 object\n",
       "acetohexamide               object\n",
       "glipizide                   object\n",
       "glyburide                   object\n",
       "tolbutamide                 object\n",
       "pioglitazone                object\n",
       "rosiglitazone               object\n",
       "acarbose                    object\n",
       "miglitol                    object\n",
       "troglitazone                object\n",
       "tolazamide                  object\n",
       "examide                     object\n",
       "citoglipton                 object\n",
       "insulin                     object\n",
       "glyburide-metformin         object\n",
       "glipizide-metformin         object\n",
       "glimepiride-pioglitazone    object\n",
       "metformin-rosiglitazone     object\n",
       "metformin-pioglitazone      object\n",
       "change                      object\n",
       "diabetesMed                 object\n",
       "readmitted                  object\n",
       "dtype: object"
      ]
     },
     "execution_count": 14,
     "metadata": {},
     "output_type": "execute_result"
    }
   ],
   "source": [
    "diabetic_data.dtypes"
   ]
  },
  {
   "cell_type": "code",
   "execution_count": 15,
   "id": "f0895ec3-e39d-4dac-990a-860015ade10a",
   "metadata": {},
   "outputs": [],
   "source": [
    "#view shape of dataframe"
   ]
  },
  {
   "cell_type": "code",
   "execution_count": 16,
   "id": "7ee5ad0a-437d-4040-8d6f-b77b7af5a426",
   "metadata": {},
   "outputs": [
    {
     "data": {
      "text/plain": [
       "(101766, 50)"
      ]
     },
     "execution_count": 16,
     "metadata": {},
     "output_type": "execute_result"
    }
   ],
   "source": [
    "diabetic_data.shape"
   ]
  },
  {
   "cell_type": "code",
   "execution_count": 17,
   "id": "e480d29b-e14e-47f0-b198-e061b6c5e194",
   "metadata": {},
   "outputs": [],
   "source": [
    "#view first ten rows of weight column"
   ]
  },
  {
   "cell_type": "code",
   "execution_count": 18,
   "id": "9fb73d0b-da61-4a3b-876f-7323d2a3563a",
   "metadata": {},
   "outputs": [
    {
     "data": {
      "text/html": [
       "<div>\n",
       "<style scoped>\n",
       "    .dataframe tbody tr th:only-of-type {\n",
       "        vertical-align: middle;\n",
       "    }\n",
       "\n",
       "    .dataframe tbody tr th {\n",
       "        vertical-align: top;\n",
       "    }\n",
       "\n",
       "    .dataframe thead th {\n",
       "        text-align: right;\n",
       "    }\n",
       "</style>\n",
       "<table border=\"1\" class=\"dataframe\">\n",
       "  <thead>\n",
       "    <tr style=\"text-align: right;\">\n",
       "      <th></th>\n",
       "      <th>weight</th>\n",
       "      <th>gender</th>\n",
       "      <th>race</th>\n",
       "      <th>admission_source_id</th>\n",
       "    </tr>\n",
       "  </thead>\n",
       "  <tbody>\n",
       "    <tr>\n",
       "      <th>0</th>\n",
       "      <td>?</td>\n",
       "      <td>Female</td>\n",
       "      <td>Caucasian</td>\n",
       "      <td>1</td>\n",
       "    </tr>\n",
       "    <tr>\n",
       "      <th>1</th>\n",
       "      <td>?</td>\n",
       "      <td>Female</td>\n",
       "      <td>Caucasian</td>\n",
       "      <td>7</td>\n",
       "    </tr>\n",
       "    <tr>\n",
       "      <th>2</th>\n",
       "      <td>?</td>\n",
       "      <td>Female</td>\n",
       "      <td>AfricanAmerican</td>\n",
       "      <td>7</td>\n",
       "    </tr>\n",
       "    <tr>\n",
       "      <th>3</th>\n",
       "      <td>?</td>\n",
       "      <td>Male</td>\n",
       "      <td>Caucasian</td>\n",
       "      <td>7</td>\n",
       "    </tr>\n",
       "    <tr>\n",
       "      <th>4</th>\n",
       "      <td>?</td>\n",
       "      <td>Male</td>\n",
       "      <td>Caucasian</td>\n",
       "      <td>7</td>\n",
       "    </tr>\n",
       "    <tr>\n",
       "      <th>5</th>\n",
       "      <td>?</td>\n",
       "      <td>Male</td>\n",
       "      <td>Caucasian</td>\n",
       "      <td>2</td>\n",
       "    </tr>\n",
       "    <tr>\n",
       "      <th>6</th>\n",
       "      <td>?</td>\n",
       "      <td>Male</td>\n",
       "      <td>Caucasian</td>\n",
       "      <td>2</td>\n",
       "    </tr>\n",
       "    <tr>\n",
       "      <th>7</th>\n",
       "      <td>?</td>\n",
       "      <td>Male</td>\n",
       "      <td>Caucasian</td>\n",
       "      <td>7</td>\n",
       "    </tr>\n",
       "    <tr>\n",
       "      <th>8</th>\n",
       "      <td>?</td>\n",
       "      <td>Female</td>\n",
       "      <td>Caucasian</td>\n",
       "      <td>4</td>\n",
       "    </tr>\n",
       "    <tr>\n",
       "      <th>9</th>\n",
       "      <td>?</td>\n",
       "      <td>Female</td>\n",
       "      <td>Caucasian</td>\n",
       "      <td>4</td>\n",
       "    </tr>\n",
       "  </tbody>\n",
       "</table>\n",
       "</div>"
      ],
      "text/plain": [
       "  weight  gender             race admission_source_id\n",
       "0      ?  Female        Caucasian                   1\n",
       "1      ?  Female        Caucasian                   7\n",
       "2      ?  Female  AfricanAmerican                   7\n",
       "3      ?    Male        Caucasian                   7\n",
       "4      ?    Male        Caucasian                   7\n",
       "5      ?    Male        Caucasian                   2\n",
       "6      ?    Male        Caucasian                   2\n",
       "7      ?    Male        Caucasian                   7\n",
       "8      ?  Female        Caucasian                   4\n",
       "9      ?  Female        Caucasian                   4"
      ]
     },
     "execution_count": 18,
     "metadata": {},
     "output_type": "execute_result"
    }
   ],
   "source": [
    "col_with_values_to_replace= ['weight', 'gender', 'race', 'admission_source_id']\n",
    "diabetic_data[col_with_values_to_replace].head(10)"
   ]
  },
  {
   "cell_type": "code",
   "execution_count": 19,
   "id": "3f86a04e-16b1-47d3-9fc7-81ec12ddb5c2",
   "metadata": {},
   "outputs": [],
   "source": [
    "#replace ? with NaN"
   ]
  },
  {
   "cell_type": "code",
   "execution_count": 20,
   "id": "257117ea-43d3-44be-8d26-7f5348373b0c",
   "metadata": {},
   "outputs": [],
   "source": [
    "diabetic_data[col_with_values_to_replace]=diabetic_data[col_with_values_to_replace].replace('?', np.nan)"
   ]
  },
  {
   "cell_type": "code",
   "execution_count": 21,
   "id": "e7703405-2e83-49a5-8206-3dfd93b2e2f6",
   "metadata": {},
   "outputs": [],
   "source": [
    "#view first ten rows of col_with_values_to_replace"
   ]
  },
  {
   "cell_type": "code",
   "execution_count": 22,
   "id": "00d7a4d1-8414-4955-b755-244ef36e4146",
   "metadata": {},
   "outputs": [
    {
     "data": {
      "text/html": [
       "<div>\n",
       "<style scoped>\n",
       "    .dataframe tbody tr th:only-of-type {\n",
       "        vertical-align: middle;\n",
       "    }\n",
       "\n",
       "    .dataframe tbody tr th {\n",
       "        vertical-align: top;\n",
       "    }\n",
       "\n",
       "    .dataframe thead th {\n",
       "        text-align: right;\n",
       "    }\n",
       "</style>\n",
       "<table border=\"1\" class=\"dataframe\">\n",
       "  <thead>\n",
       "    <tr style=\"text-align: right;\">\n",
       "      <th></th>\n",
       "      <th>weight</th>\n",
       "      <th>gender</th>\n",
       "      <th>race</th>\n",
       "      <th>admission_source_id</th>\n",
       "    </tr>\n",
       "  </thead>\n",
       "  <tbody>\n",
       "    <tr>\n",
       "      <th>0</th>\n",
       "      <td>NaN</td>\n",
       "      <td>Female</td>\n",
       "      <td>Caucasian</td>\n",
       "      <td>1</td>\n",
       "    </tr>\n",
       "    <tr>\n",
       "      <th>1</th>\n",
       "      <td>NaN</td>\n",
       "      <td>Female</td>\n",
       "      <td>Caucasian</td>\n",
       "      <td>7</td>\n",
       "    </tr>\n",
       "    <tr>\n",
       "      <th>2</th>\n",
       "      <td>NaN</td>\n",
       "      <td>Female</td>\n",
       "      <td>AfricanAmerican</td>\n",
       "      <td>7</td>\n",
       "    </tr>\n",
       "    <tr>\n",
       "      <th>3</th>\n",
       "      <td>NaN</td>\n",
       "      <td>Male</td>\n",
       "      <td>Caucasian</td>\n",
       "      <td>7</td>\n",
       "    </tr>\n",
       "    <tr>\n",
       "      <th>4</th>\n",
       "      <td>NaN</td>\n",
       "      <td>Male</td>\n",
       "      <td>Caucasian</td>\n",
       "      <td>7</td>\n",
       "    </tr>\n",
       "    <tr>\n",
       "      <th>5</th>\n",
       "      <td>NaN</td>\n",
       "      <td>Male</td>\n",
       "      <td>Caucasian</td>\n",
       "      <td>2</td>\n",
       "    </tr>\n",
       "    <tr>\n",
       "      <th>6</th>\n",
       "      <td>NaN</td>\n",
       "      <td>Male</td>\n",
       "      <td>Caucasian</td>\n",
       "      <td>2</td>\n",
       "    </tr>\n",
       "    <tr>\n",
       "      <th>7</th>\n",
       "      <td>NaN</td>\n",
       "      <td>Male</td>\n",
       "      <td>Caucasian</td>\n",
       "      <td>7</td>\n",
       "    </tr>\n",
       "    <tr>\n",
       "      <th>8</th>\n",
       "      <td>NaN</td>\n",
       "      <td>Female</td>\n",
       "      <td>Caucasian</td>\n",
       "      <td>4</td>\n",
       "    </tr>\n",
       "    <tr>\n",
       "      <th>9</th>\n",
       "      <td>NaN</td>\n",
       "      <td>Female</td>\n",
       "      <td>Caucasian</td>\n",
       "      <td>4</td>\n",
       "    </tr>\n",
       "  </tbody>\n",
       "</table>\n",
       "</div>"
      ],
      "text/plain": [
       "  weight  gender             race admission_source_id\n",
       "0    NaN  Female        Caucasian                   1\n",
       "1    NaN  Female        Caucasian                   7\n",
       "2    NaN  Female  AfricanAmerican                   7\n",
       "3    NaN    Male        Caucasian                   7\n",
       "4    NaN    Male        Caucasian                   7\n",
       "5    NaN    Male        Caucasian                   2\n",
       "6    NaN    Male        Caucasian                   2\n",
       "7    NaN    Male        Caucasian                   7\n",
       "8    NaN  Female        Caucasian                   4\n",
       "9    NaN  Female        Caucasian                   4"
      ]
     },
     "execution_count": 22,
     "metadata": {},
     "output_type": "execute_result"
    }
   ],
   "source": [
    "diabetic_data[col_with_values_to_replace].head(10)"
   ]
  },
  {
   "cell_type": "code",
   "execution_count": 23,
   "id": "e0c8d304-c2cc-426f-98d9-c5177174e1a7",
   "metadata": {},
   "outputs": [],
   "source": [
    "#check for missing values in the dataframe"
   ]
  },
  {
   "cell_type": "code",
   "execution_count": 24,
   "id": "afc39486-0f66-41a8-b734-403e900aff4e",
   "metadata": {},
   "outputs": [
    {
     "data": {
      "text/plain": [
       "encounter_id                    0\n",
       "patient_nbr                     0\n",
       "race                         2273\n",
       "gender                          0\n",
       "age                             0\n",
       "weight                      98569\n",
       "admission_type_id               0\n",
       "discharge_disposition_id        0\n",
       "admission_source_id             0\n",
       "time_in_hospital                0\n",
       "payer_code                      0\n",
       "medical_specialty               0\n",
       "num_lab_procedures              0\n",
       "num_procedures                  0\n",
       "num_medications                 0\n",
       "number_outpatient               0\n",
       "number_emergency                0\n",
       "number_inpatient                0\n",
       "diag_1                          0\n",
       "diag_2                          0\n",
       "diag_3                          0\n",
       "number_diagnoses                0\n",
       "max_glu_serum               96420\n",
       "A1Cresult                   84748\n",
       "metformin                       0\n",
       "repaglinide                     0\n",
       "nateglinide                     0\n",
       "chlorpropamide                  0\n",
       "glimepiride                     0\n",
       "acetohexamide                   0\n",
       "glipizide                       0\n",
       "glyburide                       0\n",
       "tolbutamide                     0\n",
       "pioglitazone                    0\n",
       "rosiglitazone                   0\n",
       "acarbose                        0\n",
       "miglitol                        0\n",
       "troglitazone                    0\n",
       "tolazamide                      0\n",
       "examide                         0\n",
       "citoglipton                     0\n",
       "insulin                         0\n",
       "glyburide-metformin             0\n",
       "glipizide-metformin             0\n",
       "glimepiride-pioglitazone        0\n",
       "metformin-rosiglitazone         0\n",
       "metformin-pioglitazone          0\n",
       "change                          0\n",
       "diabetesMed                     0\n",
       "readmitted                      0\n",
       "dtype: int64"
      ]
     },
     "execution_count": 24,
     "metadata": {},
     "output_type": "execute_result"
    }
   ],
   "source": [
    "diabetic_data.isna().sum()"
   ]
  },
  {
   "cell_type": "code",
   "execution_count": 25,
   "id": "f8c4264e-f659-4b5a-ac49-02ef1b9a3070",
   "metadata": {},
   "outputs": [],
   "source": [
    "#create a 5% treshold for values to drop"
   ]
  },
  {
   "cell_type": "code",
   "execution_count": 26,
   "id": "7523f154-b054-43dc-98e1-04bad5d10c0e",
   "metadata": {},
   "outputs": [],
   "source": [
    "threshold=len(diabetic_data)*0.05"
   ]
  },
  {
   "cell_type": "code",
   "execution_count": 27,
   "id": "fcdfc592-ff82-4991-b36f-88c8ae806553",
   "metadata": {},
   "outputs": [
    {
     "name": "stdout",
     "output_type": "stream",
     "text": [
      "5088.3\n"
     ]
    }
   ],
   "source": [
    "print(threshold)"
   ]
  },
  {
   "cell_type": "code",
   "execution_count": 28,
   "id": "11793da8-4477-4e1a-b4b3-82aee2e68ddc",
   "metadata": {},
   "outputs": [],
   "source": [
    "#race is the only column with missing values above the threshold\n",
    "#drop missing values in the race column"
   ]
  },
  {
   "cell_type": "code",
   "execution_count": 29,
   "id": "233a7d41-352f-4840-ad7d-b0b197e7a6dd",
   "metadata": {},
   "outputs": [],
   "source": [
    "diabetic_data.dropna(subset='race', inplace=True)"
   ]
  },
  {
   "cell_type": "code",
   "execution_count": 30,
   "id": "309ad43a-0f25-4bca-8dc7-b22a8f80bee1",
   "metadata": {},
   "outputs": [],
   "source": [
    "#View remaining columns with missing values"
   ]
  },
  {
   "cell_type": "code",
   "execution_count": 31,
   "id": "b8dd408b-9935-4e56-b88a-559e2e5cf64c",
   "metadata": {
    "scrolled": true
   },
   "outputs": [
    {
     "name": "stdout",
     "output_type": "stream",
     "text": [
      "Index(['weight', 'max_glu_serum', 'A1Cresult'], dtype='object')\n"
     ]
    }
   ],
   "source": [
    "cols_with_missing_values = diabetic_data.columns[diabetic_data.isna().sum() > 0]\n",
    "print(cols_with_missing_values)"
   ]
  },
  {
   "cell_type": "code",
   "execution_count": 32,
   "id": "dd7ba521-3687-4466-8917-69416b8fd982",
   "metadata": {},
   "outputs": [],
   "source": [
    "#imput the mode in place of missing values\n",
    "#iterate through the columns with missing values "
   ]
  },
  {
   "cell_type": "code",
   "execution_count": 33,
   "id": "d10420ab-6a52-4238-a0ad-d11da4a56cc9",
   "metadata": {},
   "outputs": [],
   "source": [
    "for col in cols_with_missing_values: \n",
    "    if col in diabetic_data.columns:  # Check if the column exists\n",
    "        mode_value = diabetic_data[col].mode()[0] \n",
    "        diabetic_data[col].fillna(mode_value)"
   ]
  },
  {
   "cell_type": "markdown",
   "id": "aa8edd4e-925a-4097-b701-d702d4f4c97a",
   "metadata": {},
   "source": [
    "# Research Questions\n",
    "\n",
    "1. What is the overall distribution of readmission rates?\n",
    "2. What is the average length of stay in the hospital?\n",
    "3. What is the most common age group among the patients?\n",
    "4. What are the most frequent primary diagnoses (`diag_1`)?\n",
    "\n",
    "5. Is there a relationship between age and readmission rates?\n",
    "6. Do different genders have different readmission rates?\n",
    "7. How does race/ethnicity influence readmission rates?\n",
    "\n",
    "8. Is there a relationship between the number of medications prescribed and readmission rates?\n",
    "\n",
    "9. Do patients admitted through different sources (e.g., emergency room, physician referral) have different readmission rates?\n",
    "10. Is there a relationship between the number of lab procedures and readmission rates?\n"
   ]
  },
  {
   "cell_type": "markdown",
   "id": "69ceea27-70df-410f-a07d-f30b335a20fb",
   "metadata": {},
   "source": [
    "## 1. What is the overall distribution of readmission rates?\n"
   ]
  },
  {
   "cell_type": "code",
   "execution_count": 36,
   "id": "41fffb6f-d9c6-4cbc-994e-e0550b2e6012",
   "metadata": {},
   "outputs": [],
   "source": [
    "#view the proportion of readmissions"
   ]
  },
  {
   "cell_type": "code",
   "execution_count": 37,
   "id": "2b85fda4-84ac-47be-87d7-4034eeb03d14",
   "metadata": {},
   "outputs": [],
   "source": [
    "readmitted_prop= diabetic_data['readmitted'].value_counts(normalize=True)"
   ]
  },
  {
   "cell_type": "code",
   "execution_count": 38,
   "id": "df2c60df-04e3-452b-bf4b-8007153cc5ea",
   "metadata": {},
   "outputs": [
    {
     "name": "stdout",
     "output_type": "stream",
     "text": [
      "readmitted\n",
      "NO     0.535887\n",
      ">30    0.351854\n",
      "<30    0.112259\n",
      "Name: proportion, dtype: float64\n"
     ]
    }
   ],
   "source": [
    "print(readmitted_prop) "
   ]
  },
  {
   "cell_type": "code",
   "execution_count": 39,
   "id": "6b2e2e8f-b0bf-42d0-9734-a85c5ad876e5",
   "metadata": {},
   "outputs": [],
   "source": [
    "#get the percentages"
   ]
  },
  {
   "cell_type": "code",
   "execution_count": 40,
   "id": "3c865dca-1dd9-4ec4-9a03-771ac9727dae",
   "metadata": {},
   "outputs": [
    {
     "data": {
      "text/plain": [
       "readmitted\n",
       "NO     53.588695\n",
       ">30    35.185390\n",
       "<30    11.225915\n",
       "Name: proportion, dtype: float64"
      ]
     },
     "execution_count": 40,
     "metadata": {},
     "output_type": "execute_result"
    }
   ],
   "source": [
    "readmitted_prop* 100"
   ]
  },
  {
   "cell_type": "code",
   "execution_count": 41,
   "id": "0cdb9cb9-9d7d-4125-88e5-df9649e9976c",
   "metadata": {},
   "outputs": [
    {
     "name": "stdout",
     "output_type": "stream",
     "text": [
      "Overall Readmission Rate: 46.41%\n"
     ]
    }
   ],
   "source": [
    "readmission_rate = (diabetic_data['readmitted'] != 'NO').mean()* 100\n",
    "print(f\"Overall Readmission Rate: {readmission_rate:.2f}%\") "
   ]
  },
  {
   "cell_type": "code",
   "execution_count": 42,
   "id": "a3b1968b-560b-41a2-8e40-58d040dca0f4",
   "metadata": {},
   "outputs": [],
   "source": [
    "#countplot of the 'readmitted' column"
   ]
  },
  {
   "cell_type": "code",
   "execution_count": 43,
   "id": "9a5f4ca8-d282-4070-a8ae-1d123bba6bb5",
   "metadata": {},
   "outputs": [
    {
     "data": {
      "image/png": "[encoded data removed]",
      "text/plain": [
       "<Figure size 640x480 with 1 Axes>"
      ]
     },
     "metadata": {},
     "output_type": "display_data"
    }
   ],
   "source": [
    "r= sns.countplot(x='readmitted', data= diabetic_data)\n",
    "plt.xlabel= 'Readmission Status'\n",
    "plt.ylabel= 'Number of Patients'\n",
    "r.set_title('Distribution of Readmissions')\n",
    "plt.show()"
   ]
  },
  {
   "cell_type": "markdown",
   "id": "0af65f8d-d101-4073-acc6-376fbe06a524",
   "metadata": {},
   "source": [
    "## 2. What is the average length of stay in the hospital?"
   ]
  },
  {
   "cell_type": "code",
   "execution_count": 45,
   "id": "26e0accc-132f-43d9-9d69-9e2ff7ef16d9",
   "metadata": {},
   "outputs": [],
   "source": [
    "#descriptive statistics for time_in_hospital"
   ]
  },
  {
   "cell_type": "code",
   "execution_count": 46,
   "id": "2960012d-e093-4207-b84e-c02fefdbef6f",
   "metadata": {},
   "outputs": [
    {
     "name": "stdout",
     "output_type": "stream",
     "text": [
      "mean       4.398420\n",
      "median     4.000000\n",
      "std        2.986977\n",
      "min        1.000000\n",
      "max       14.000000\n",
      "Name: time_in_hospital, dtype: float64\n"
     ]
    }
   ],
   "source": [
    "time_in_hospital_stats = diabetic_data['time_in_hospital'].agg(['mean', 'median', 'std', 'min', 'max'])\n",
    "print(time_in_hospital_stats)"
   ]
  },
  {
   "cell_type": "code",
   "execution_count": 47,
   "id": "456be301-def3-4b2b-9901-642c6636ee8f",
   "metadata": {},
   "outputs": [],
   "source": [
    "#visualize the distribution of time_in_hospital"
   ]
  },
  {
   "cell_type": "code",
   "execution_count": 48,
   "id": "1fc6c6e3-93f3-4b37-b2f8-82afbaefb5b6",
   "metadata": {},
   "outputs": [
    {
     "data": {
      "image/png": "[encoded data removed]",
      "text/plain": [
       "<Figure size 640x480 with 1 Axes>"
      ]
     },
     "metadata": {},
     "output_type": "display_data"
    }
   ],
   "source": [
    "t_h=sns.histplot(x= 'time_in_hospital', data= diabetic_data, binwidth=1)\n",
    "plt.xlabel= 'Time in Hodspital (Days)'\n",
    "plt.ylabel= 'Number of Patients'\n",
    "t_h.set_title('Distribution of Hospital Stay Lengths')\n",
    "plt.show()"
   ]
  },
  {
   "cell_type": "markdown",
   "id": "1b096e26-2ae8-4800-bb8c-47ccff25895c",
   "metadata": {},
   "source": [
    "## 3. What is the most common age group among the patients?"
   ]
  },
  {
   "cell_type": "code",
   "execution_count": 50,
   "id": "a478fc7f-71d8-46ab-8b19-91e7e063aeed",
   "metadata": {},
   "outputs": [],
   "source": [
    "#view a countplot of the age column"
   ]
  },
  {
   "cell_type": "code",
   "execution_count": 51,
   "id": "830af7d6-e5e9-4ea1-bd80-03315e6a152c",
   "metadata": {},
   "outputs": [
    {
     "data": {
      "image/png": "[encoded data removed]",
      "text/plain": [
       "<Figure size 640x480 with 1 Axes>"
      ]
     },
     "metadata": {},
     "output_type": "display_data"
    }
   ],
   "source": [
    "a=sns.countplot(x='age', data= diabetic_data, hue='readmitted')\n",
    "plt.xlabel= 'Age Group'\n",
    "plt.ylabel= 'Number of Patients'\n",
    "a.set_title('Age Groups and Readmission Patterns in Diabetic Patients')\n",
    "plt.xticks(rotation=60) \n",
    "plt.show()"
   ]
  },
  {
   "cell_type": "code",
   "execution_count": 52,
   "id": "49f1a1ba-ac3c-4a68-b41b-5b0c960063d5",
   "metadata": {},
   "outputs": [],
   "source": [
    "#or find the modal agr group"
   ]
  },
  {
   "cell_type": "code",
   "execution_count": 53,
   "id": "a627343d-98ab-4580-af91-651578f294f1",
   "metadata": {},
   "outputs": [
    {
     "data": {
      "text/plain": [
       "0    [70-80)\n",
       "Name: age, dtype: object"
      ]
     },
     "execution_count": 53,
     "metadata": {},
     "output_type": "execute_result"
    }
   ],
   "source": [
    "diabetic_data['age'].mode()"
   ]
  },
  {
   "cell_type": "markdown",
   "id": "506e03a3-cb8a-4320-82a5-170e2f691971",
   "metadata": {},
   "source": [
    "## 4. What are the most frequent primary diagnoses (diag_1)?"
   ]
  },
  {
   "cell_type": "code",
   "execution_count": 55,
   "id": "02a2df3f-e538-4cbc-b958-0f51e4e93017",
   "metadata": {},
   "outputs": [],
   "source": [
    "#find the top ten most frequent primary diagnoses"
   ]
  },
  {
   "cell_type": "code",
   "execution_count": 56,
   "id": "504d64ad-e0c4-4ab1-8e9b-568c5a477dcd",
   "metadata": {},
   "outputs": [
    {
     "name": "stdout",
     "output_type": "stream",
     "text": [
      "diag_1\n",
      "428    6739\n",
      "414    6407\n",
      "786    3938\n",
      "410    3518\n",
      "486    3425\n",
      "427    2712\n",
      "491    2228\n",
      "715    2099\n",
      "682    1996\n",
      "780    1991\n",
      "Name: count, dtype: int64\n"
     ]
    }
   ],
   "source": [
    "fpd= diabetic_data['diag_1'].value_counts().head(10)\n",
    "print(fpd)"
   ]
  },
  {
   "cell_type": "markdown",
   "id": "0d47049c-de7a-422f-859b-9dafc6fafc28",
   "metadata": {},
   "source": [
    "*** **Note**: ICD-9 codes:\n",
    "        **428** corresponds to the diagnosis of Heart failure.\n",
    "        **414** corresponds to the diagnosis of Other forms of chronic ischemic heart disease. \n",
    "        **786** refers to Symptoms involving the respiratory system and other chest symptoms.\n",
    "        **410** corresponds to the diagnosis of Acute myocardial infarction (heart attack).\n",
    "        **486** corresponds to the diagnosis of Pneumonia, organism unspecified.\n",
    "        **427** corresponds to the diagnosis of Cardiac dysrhythmias.\n",
    "        **491** corresponds to the diagnosis of Chronic bronchitis.\n",
    "        **715** corresponds to the diagnosis of Osteoarthrosis and allied disorders.\n",
    "        **682** corresponds to the diagnosis of Other cellulitis and abscess.\n",
    "        **434** corresponds to the diagnosis of Occlusion of cerebral arteries."
   ]
  },
  {
   "cell_type": "code",
   "execution_count": 58,
   "id": "5d55bd2d-406a-48ed-a97d-77bcf9b9b918",
   "metadata": {},
   "outputs": [],
   "source": [
    "#filter diabetic_data to include only the rows with fpd"
   ]
  },
  {
   "cell_type": "code",
   "execution_count": 59,
   "id": "6bb9da03-bc1b-46e0-8b8d-203030ca486f",
   "metadata": {},
   "outputs": [],
   "source": [
    "top_10_diag_1= diabetic_data[diabetic_data['diag_1'].isin(fpd.index)]"
   ]
  },
  {
   "cell_type": "code",
   "execution_count": 60,
   "id": "cecff6f6-08c6-4316-9f09-fa5ed24d0222",
   "metadata": {},
   "outputs": [],
   "source": [
    "#visualize the top 10 most common diagnoses"
   ]
  },
  {
   "cell_type": "code",
   "execution_count": 61,
   "id": "bb4693dc-b853-4173-b63d-a0184ef9afb8",
   "metadata": {},
   "outputs": [
    {
     "data": {
      "image/png": "[encoded data removed]",
      "text/plain": [
       "<Figure size 640x480 with 1 Axes>"
      ]
     },
     "metadata": {},
     "output_type": "display_data"
    }
   ],
   "source": [
    "d1= sns.countplot(x='diag_1', data=top_10_diag_1)\n",
    "plt.xlabel= 'Primary Diagnosis'\n",
    "plt.ylabel= 'Number of Patients'\n",
    "d1.set_title('Primary Diagnoses and Readmission Patterns')\n",
    "plt.show()   "
   ]
  },
  {
   "cell_type": "markdown",
   "id": "acaaf93a-a81d-4e21-9d78-706335c216cd",
   "metadata": {},
   "source": [
    "## 5. Is there a relationship between age and readmission rates?"
   ]
  },
  {
   "cell_type": "code",
   "execution_count": 63,
   "id": "08857fba-4acd-47ef-aa61-d58987ac6423",
   "metadata": {},
   "outputs": [],
   "source": [
    "#create a boxplot to visualize the relationship"
   ]
  },
  {
   "cell_type": "code",
   "execution_count": 64,
   "id": "b2115e6d-9c46-4a4c-8697-66e81b0b82d9",
   "metadata": {},
   "outputs": [
    {
     "data": {
      "image/png": "[encoded data removed]",
      "text/plain": [
       "<Figure size 640x480 with 1 Axes>"
      ]
     },
     "metadata": {},
     "output_type": "display_data"
    }
   ],
   "source": [
    "rel_a_r= sns.boxplot(x='readmitted', y='age', data= diabetic_data)\n",
    "rel_a_r.set (xlabel= 'Readmission Status', ylabel= 'Age Group')\n",
    "rel_a_r.set_title('Relationship between Age And Readmission Status')\n",
    "plt.show()"
   ]
  },
  {
   "cell_type": "code",
   "execution_count": 65,
   "id": "17000491-cbf6-421d-8538-4f32ddcd445a",
   "metadata": {},
   "outputs": [],
   "source": [
    "#create a lineplot to view the relationship"
   ]
  },
  {
   "cell_type": "markdown",
   "id": "5b6a1adc-f3d4-4a22-a6a0-3df986a6d740",
   "metadata": {},
   "source": [
    "## 6. Do different genders have different readmission rates?"
   ]
  },
  {
   "cell_type": "code",
   "execution_count": 67,
   "id": "61971706-7d82-4838-9bd2-ec8860be3853",
   "metadata": {},
   "outputs": [],
   "source": [
    "#calculate readmission by gender"
   ]
  },
  {
   "cell_type": "code",
   "execution_count": 68,
   "id": "dca34131-cc78-40b3-abb5-4bf70f62c1d5",
   "metadata": {},
   "outputs": [
    {
     "name": "stdout",
     "output_type": "stream",
     "text": [
      "readmitted             <30        >30          NO\n",
      "gender                                           \n",
      "Female           11.313112  35.944004   52.742884\n",
      "Male             11.124420  34.301021   54.574558\n",
      "Unknown/Invalid        NaN        NaN  100.000000\n"
     ]
    }
   ],
   "source": [
    "readmission_rates_by_gender = diabetic_data.groupby('gender')['readmitted'].value_counts(normalize=True).unstack() * 100\n",
    "print(readmission_rates_by_gender)"
   ]
  },
  {
   "cell_type": "code",
   "execution_count": 69,
   "id": "d13212d3-5b9e-4396-a956-673f75a235e3",
   "metadata": {},
   "outputs": [],
   "source": [
    "#show boxplots of readmission rates for different genders"
   ]
  },
  {
   "cell_type": "code",
   "execution_count": 70,
   "id": "af620c4b-a1e3-4d2e-aaa5-dc34ec7baa2c",
   "metadata": {},
   "outputs": [
    {
     "data": {
      "text/plain": [
       "<seaborn.axisgrid.FacetGrid at 0x126b874d0>"
      ]
     },
     "execution_count": 70,
     "metadata": {},
     "output_type": "execute_result"
    },
    {
     "data": {
      "image/png": "[encoded data removed]",
      "text/plain": [
       "<Figure size 1511.11x500 with 3 Axes>"
      ]
     },
     "metadata": {},
     "output_type": "display_data"
    }
   ],
   "source": [
    "sns.catplot(x='readmitted', data= diabetic_data, kind= 'count', col='gender')"
   ]
  },
  {
   "cell_type": "markdown",
   "id": "6fd1922e-5c4e-45af-a1d5-817f9ba052c8",
   "metadata": {},
   "source": [
    "## 7. How does race/ethnicity influence readmission rates"
   ]
  },
  {
   "cell_type": "code",
   "execution_count": 72,
   "id": "493e10e6-0e86-434e-a48a-082235c6b82f",
   "metadata": {},
   "outputs": [],
   "source": [
    "#calculate readmission by race"
   ]
  },
  {
   "cell_type": "code",
   "execution_count": 73,
   "id": "d29e735d-507e-419c-b9dc-c9afe2115e77",
   "metadata": {},
   "outputs": [
    {
     "name": "stdout",
     "output_type": "stream",
     "text": [
      "readmitted             <30        >30         NO\n",
      "race                                            \n",
      "AfricanAmerican  11.218116  34.534097  54.247788\n",
      "Asian            10.140406  25.117005  64.742590\n",
      "Caucasian        11.290556  35.643044  53.066400\n",
      "Hispanic         10.407462  31.516937  58.075601\n",
      "Other             9.628154  29.614874  60.756972\n"
     ]
    }
   ],
   "source": [
    "readmission_rates_by_race = diabetic_data.groupby('race')['readmitted'].value_counts(normalize=True).unstack() * 100\n",
    "print(readmission_rates_by_race)"
   ]
  },
  {
   "cell_type": "code",
   "execution_count": 74,
   "id": "2c0cb6cf-5157-4a5a-91b2-4ff0172c870d",
   "metadata": {},
   "outputs": [],
   "source": [
    "#view the countplot of readmission status with hue set to race"
   ]
  },
  {
   "cell_type": "code",
   "execution_count": 75,
   "id": "1ddb96eb-173e-495f-b847-cf7d2ae5d79a",
   "metadata": {},
   "outputs": [
    {
     "data": {
      "text/plain": [
       "<Axes: xlabel='readmitted', ylabel='count'>"
      ]
     },
     "execution_count": 75,
     "metadata": {},
     "output_type": "execute_result"
    },
    {
     "data": {
      "image/png": "[encoded data removed]",
      "text/plain": [
       "<Figure size 640x480 with 1 Axes>"
      ]
     },
     "metadata": {},
     "output_type": "display_data"
    }
   ],
   "source": [
    "sns.countplot(x='readmitted', data=diabetic_data, hue='race')"
   ]
  },
  {
   "cell_type": "markdown",
   "id": "925c505f-7746-46f0-a6e5-9d39da0a6595",
   "metadata": {},
   "source": [
    "## 8. Is there a relationship between the number of medications prescribed and readmission rates? "
   ]
  },
  {
   "cell_type": "code",
   "execution_count": 77,
   "id": "c72b8093-aa00-486d-835c-d5da5c4a7bb4",
   "metadata": {},
   "outputs": [],
   "source": [
    "#calculate mean number of medications per readmission status"
   ]
  },
  {
   "cell_type": "code",
   "execution_count": 78,
   "id": "21487d51-0dd4-449b-b459-63ef7f5a3627",
   "metadata": {},
   "outputs": [
    {
     "name": "stdout",
     "output_type": "stream",
     "text": [
      "readmitted\n",
      "<30    16.927926\n",
      ">30    16.273945\n",
      "NO     15.675394\n",
      "Name: num_medications, dtype: float64\n"
     ]
    }
   ],
   "source": [
    "readmission_rates_by_np= diabetic_data.groupby('readmitted')['num_medications'].mean()\n",
    "print(readmission_rates_by_np)"
   ]
  },
  {
   "cell_type": "code",
   "execution_count": 79,
   "id": "b1ea6798-7390-4f66-aa44-f1a820952424",
   "metadata": {},
   "outputs": [],
   "source": [
    "#create a scatterplot to visualize the relationship"
   ]
  },
  {
   "cell_type": "code",
   "execution_count": 80,
   "id": "4f79b293-6839-4d2b-8b79-e45a773640da",
   "metadata": {},
   "outputs": [
    {
     "data": {
      "image/png": "[encoded data removed]",
      "text/plain": [
       "<Figure size 640x480 with 1 Axes>"
      ]
     },
     "metadata": {},
     "output_type": "display_data"
    }
   ],
   "source": [
    "sns.lineplot(x='readmitted', y='num_medications', data=diabetic_data)\n",
    "plt.show()"
   ]
  },
  {
   "cell_type": "markdown",
   "id": "4f87ab8d-6afa-4e7c-a226-45092d1b81b8",
   "metadata": {},
   "source": [
    "## 9. Do patients admitted through different sources (e.g., emergency room, physician referral) have different readmission rates?"
   ]
  },
  {
   "cell_type": "code",
   "execution_count": 82,
   "id": "4fe688dc-7cbf-4ebe-94d0-a0d17c8803d2",
   "metadata": {},
   "outputs": [],
   "source": [
    "#calculate readmission by source"
   ]
  },
  {
   "cell_type": "code",
   "execution_count": 83,
   "id": "40fd946e-b172-4f01-930b-15a3ad57d036",
   "metadata": {},
   "outputs": [
    {
     "name": "stdout",
     "output_type": "stream",
     "text": [
      "readmitted                 <30        >30          NO\n",
      "admission_source_id                                  \n",
      "1                    10.667129  32.895512   56.437359\n",
      "10                         NaN  28.571429   71.428571\n",
      "11                         NaN        NaN  100.000000\n",
      "13                         NaN        NaN  100.000000\n",
      "14                         NaN        NaN  100.000000\n",
      "17                   10.435951  36.249627   53.314422\n",
      "2                    10.460653  28.598848   60.940499\n",
      "20                   13.750000  50.625000   35.625000\n",
      "22                   16.666667  25.000000   58.333333\n",
      "25                         NaN        NaN  100.000000\n",
      "3                    15.508021  31.016043   53.475936\n",
      "4                     9.879437  21.701273   68.419290\n",
      "5                    11.792453  27.594340   60.613208\n",
      "6                     8.999497  18.049271   72.951232\n",
      "7                    11.731883  37.777228   50.490889\n",
      "8                    12.500000  25.000000   62.500000\n",
      "9                    18.518519  11.111111   70.370370\n"
     ]
    }
   ],
   "source": [
    "readmission_rates_by_source = diabetic_data.groupby('admission_source_id')['readmitted'].value_counts(normalize=True).unstack() * 100\n",
    "print(readmission_rates_by_source)"
   ]
  },
  {
   "cell_type": "markdown",
   "id": "19c0de97-736e-46d6-9512-c6f7e3c9261c",
   "metadata": {},
   "source": [
    "*** **Note** admission_source_id\n",
    "description\n",
    "1-Physician Referral, 2-Clinic Referral, 3_HMO Referral, 4-Transfer from a hospital, 5-Transfer from a Skilled Nursing Facility (SNF), 6-Transfer from another health care facility, 7-Emergency Room, 8-Court/Law Enforcement\n",
    ", 9-\n",
    "Not Available\n",
    ", 10-\n",
    "Transfer from critial access hospital\n",
    ", 11-\n",
    "Normal Delivery\n",
    ", 12-\n",
    "Premature Delivery\n",
    ", 13-\n",
    "Sick Baby\n",
    ", 14-\n",
    "Extramural Birth\n",
    ", 15-\n",
    "Not Available\n",
    ", 17-\n",
    "NULL\n",
    ", 18-\n",
    "Transfer From Another Home Health Agency\n",
    ", 19-\n",
    "Readmission to Same Home Health Agency\n",
    ", 20-\n",
    "Not Mapped\n",
    ", 21-\n",
    "Unknown/Invalid\n",
    ", 22-\n",
    "Transfer from hospital inpt/same fac reslt in a sep claim\n",
    ", 23-\n",
    "Born inside this hospital\n",
    ", 24-\n",
    "Born outside this hospital\n",
    ", 25-\n",
    "Transfer from Ambulatory Surgery Center\n",
    ", 26-\n",
    "Transfer from Hospice"
   ]
  },
  {
   "cell_type": "code",
   "execution_count": 85,
   "id": "1a0bb453-7ead-4b4d-932d-321780ece4c0",
   "metadata": {},
   "outputs": [],
   "source": [
    "#view distribution of the admission_source_id"
   ]
  },
  {
   "cell_type": "code",
   "execution_count": 86,
   "id": "d5cb53a4-bab5-4370-a7f2-e5767e8747f2",
   "metadata": {},
   "outputs": [
    {
     "data": {
      "text/plain": [
       "<function matplotlib.pyplot.show(close=None, block=None)>"
      ]
     },
     "execution_count": 86,
     "metadata": {},
     "output_type": "execute_result"
    },
    {
     "data": {
      "image/png": "[encoded data removed]",
      "text/plain": [
       "<Figure size 640x480 with 1 Axes>"
      ]
     },
     "metadata": {},
     "output_type": "display_data"
    }
   ],
   "source": [
    "sns.countplot(x='admission_source_id', data=diabetic_data, hue='readmitted')\n",
    "plt.show"
   ]
  },
  {
   "cell_type": "markdown",
   "id": "273e56bc-b035-4bd6-a770-8343ab33999e",
   "metadata": {},
   "source": [
    "## Distribution of Hospital Length of Stay by Readmission Rates"
   ]
  },
  {
   "cell_type": "code",
   "execution_count": 88,
   "id": "8ab3b626-993b-4fcf-85b0-e6936a670850",
   "metadata": {},
   "outputs": [
    {
     "data": {
      "image/png": "[encoded data removed]",
      "text/plain": [
       "<Figure size 640x480 with 1 Axes>"
      ]
     },
     "metadata": {},
     "output_type": "display_data"
    }
   ],
   "source": [
    "t=sns.boxplot(x='readmitted', y='time_in_hospital', data= diabetic_data)\n",
    "plt.xlabel= 'Readmission Status'\n",
    "plt.ylabel= 'Time in Hospital (Days)'\n",
    "t.set_title('Distribution of Hospital Stay Lengths by Readmission Status')\n",
    "plt.show()"
   ]
  },
  {
   "cell_type": "code",
   "execution_count": null,
   "id": "a86c706c-c410-415f-8b97-99e4d886977f",
   "metadata": {},
   "outputs": [],
   "source": []
  },
  {
   "cell_type": "code",
   "execution_count": null,
   "id": "cd18b0cc-896c-476c-a8ca-2c8b5b39e410",
   "metadata": {},
   "outputs": [],
   "source": [
    " "
   ]
  }
 ],
 "metadata": {
  "kernelspec": {
   "display_name": "Python [conda env:base] *",
   "language": "python",
   "name": "conda-base-py"
  },
  "language_info": {
   "codemirror_mode": {
    "name": "ipython",
    "version": 3
   },
   "file_extension": ".py",
   "mimetype": "text/x-python",
   "name": "python",
   "nbconvert_exporter": "python",
   "pygments_lexer": "ipython3",
   "version": "3.12.7"
  }
 },
 "nbformat": 4,
 "nbformat_minor": 5
}
